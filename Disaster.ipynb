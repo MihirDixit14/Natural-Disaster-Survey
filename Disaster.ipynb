{
 "cells": [
  {
   "cell_type": "code",
   "execution_count": null,
   "metadata": {},
   "outputs": [],
   "source": [
    "import pandas as pd\n",
    "import matplotlib.pyplot as plt\n",
    "from matplotlib.animation import FuncAnimation\n",
    "\n",
    "df = pd.read_csv(r'./disaster-events new.csv')\n",
    "\n",
    "\n",
    "df_filtered = df[(df['Year'] >= 2018) & (df['Entity']=='Earthquake')]\n",
    "\n",
    "plt.plot(df_filtered['Year'], df_filtered['Disasters'], marker='o', linestyle='--')\n",
    "\n",
    "plt.title('Number of Earthquake as disasters Over the Years')\n",
    "plt.xlabel('Year')\n",
    "plt.ylabel('Number of Earthquakes')\n",
    "\n",
    "\n",
    "plt.grid(True)\n",
    "\n",
    "\n",
    "plt.show()\n",
    "\n",
    "\n",
    "    \n",
    "\n",
    "  "
   ]
  },
  {
   "cell_type": "code",
   "execution_count": null,
   "metadata": {},
   "outputs": [],
   "source": [
    "df = pd.read_csv(r'./disaster-events new.csv')\n",
    "df_pie = df[(df['Year'] == 2023) & (~df['Entity'].str.startswith(\"All disasters\"))]\n",
    "fig = plt.figure(figsize=(15, 10))\n",
    "plt.title(\"Number of Disasters in 2023\")\n",
    "plt.pie(df_pie['Disasters'], labels=df_pie['Entity'],autopct='%2.2f%%', startangle=90)\n",
    "plt.show()\n"
   ]
  },
  {
   "cell_type": "code",
   "execution_count": null,
   "metadata": {},
   "outputs": [],
   "source": [
    "df = pd.read_csv(r'./disaster-events new.csv')\n",
    "\n",
    "\n",
    "df_filtered = df[(df['Year'] >= 2018) & (df['Entity']=='Earthquake')]\n",
    "df_compare=df[(df['Year']>=2018) & (df['Entity']==\"Flood\")]\n",
    "\n",
    "plt.plot(df_filtered['Year'], df_filtered['Disasters'], marker='o', linestyle='--', label='Earthquake')\n",
    "plt.plot(df_compare['Year'], df_compare['Disasters'], marker='>', linestyle='-', label='Flood')\n",
    "\n",
    "plt.title('Compare Earthquake and Flood events from 2018 to 2024')\n",
    "plt.xlabel('Year')\n",
    "plt.ylabel('Compare Earthquake and Flood')\n",
    "\n",
    "\n",
    "plt.grid(True)\n",
    "\n",
    "plt.legend()\n",
    "plt.show()"
   ]
  },
  {
   "cell_type": "code",
   "execution_count": null,
   "metadata": {},
   "outputs": [],
   "source": [
    "df = pd.read_csv(r'./disaster-events new.csv')\n",
    "\n",
    "\n",
    "df_filtered = df[(df['Year'] >= 2018) & (df['Entity']==\"Earthquake\")]\n",
    "df_compare=df[(df['Year']>=2018) & (df['Entity']==\"Flood\")]\n",
    "\n",
    "plt.fill_between(df_filtered['Year'], df_filtered['Disasters'], alpha=0.5, label='Earthquake', color='blue')\n",
    "plt.fill_between(df_compare['Year'], df_compare['Disasters'], alpha=0.5, label='Flood', color='green')\n",
    "\n",
    "plt.title('Compare Earthquake and Flood events from 2018 to 2024')\n",
    "plt.xlabel('Year')\n",
    "plt.ylabel('Compare Extreme Temperature and Flood')\n",
    "\n",
    "\n",
    "plt.grid(True)\n",
    "\n",
    "plt.legend()\n",
    "plt.show()"
   ]
  },
  {
   "cell_type": "code",
   "execution_count": null,
   "metadata": {},
   "outputs": [],
   "source": [
    "from sklearn.model_selection import train_test_split\n",
    "from sklearn.linear_model import LinearRegression\n",
    "from sklearn.metrics import mean_squared_error, r2_score\n",
    "\n",
    "\n",
    "\n",
    "\n",
    "df = pd.read_csv(r'./disaster-events new.csv')\n",
    "\n",
    "print(df.Entity.head())\n",
    "df_filtered = df[ (df['Entity']=='All disasters excluding earthquakes')]\n",
    "x=df_filtered[['Year']]\n",
    "y=df_filtered[['Disasters']]\n",
    "x_train, x_test, y_train, y_test=train_test_split(x,y,test_size=0.2, random_state=42)\n",
    "model=LinearRegression()\n",
    "model.fit(x_train, y_train)\n",
    "y_pred=model.predict(x_test)\n",
    "mse=mean_squared_error(y_test,y_pred)\n",
    "r2=r2_score(y_test, y_pred)\n",
    "print(f'Mean Squared Error: {mse}')\n",
    "print(f'R^2 Score: {r2}')\n",
    "plt.scatter(x_train,y_train, color='green', label='Training Data')\n",
    "plt.plot(x_train, model.predict(x_train), color='red', label='Regression line')\n",
    "plt.xlabel('x')\n",
    "plt.ylabel('y')\n",
    "plt.title('Linear Regression')\n",
    "plt.legend()\n",
    "plt.show()\n"
   ]
  },
  {
   "cell_type": "code",
   "execution_count": null,
   "metadata": {},
   "outputs": [],
   "source": [
    "from sklearn.model_selection import cross_val_score\n",
    "scores=cross_val_score\n",
    "df = pd.read_csv(r'./disaster-events new.csv')\n",
    "\n",
    "print(df.Entity.head())\n",
    "df_filtered = df[(df['Entity']=='Earthquake')]\n",
    "x=df_filtered[['Year']]\n",
    "y=df_filtered[['Disasters']]\n",
    "x_train, x_test, y_train, y_test=train_test_split(x,y,test_size=0.2, random_state=42)\n",
    "model=LinearRegression()\n",
    "model.fit(x_train, y_train)\n",
    "scores = cross_val_score(model, x, y, cv=5, scoring='r2')\n",
    "print(f'Cross-validated R^2 scores: {scores}')\n",
    "print(f'Mean R^2 score: {scores.mean()}')\n"
   ]
  },
  {
   "cell_type": "code",
   "execution_count": null,
   "metadata": {},
   "outputs": [],
   "source": [
    "from sklearn.linear_model import LinearRegression, Ridge\n",
    "ridge = Ridge(alpha=1.0)\n",
    "ridge_scores = cross_val_score(ridge, x, y, cv=5, scoring='r2')\n",
    "print(f'Ridge Cross-validated R^2 scores: {ridge_scores}')\n",
    "print(f'Ridge Mean R^2 score: {ridge_scores.mean()}')"
   ]
  }
 ],
 "metadata": {
  "kernelspec": {
   "display_name": "Python 3",
   "language": "python",
   "name": "python3"
  },
  "language_info": {
   "codemirror_mode": {
    "name": "ipython",
    "version": 3
   },
   "file_extension": ".py",
   "mimetype": "text/x-python",
   "name": "python",
   "nbconvert_exporter": "python",
   "pygments_lexer": "ipython3",
   "version": "3.11.3"
  }
 },
 "nbformat": 4,
 "nbformat_minor": 2
}
